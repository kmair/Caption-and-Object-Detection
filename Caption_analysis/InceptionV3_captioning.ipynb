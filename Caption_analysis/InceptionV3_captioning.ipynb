{
 "cells": [
  {
   "cell_type": "markdown",
   "metadata": {},
   "source": [
    "# Captioning model\n",
    "\n",
    "The objective is to generate caption sequences using the image passed and to use this model to be integrated with the object detection functionality."
   ]
  },
  {
   "cell_type": "code",
   "execution_count": 1,
   "metadata": {
    "colab": {},
    "colab_type": "code",
    "id": "wUjR8N4arh5G"
   },
   "outputs": [
    {
     "name": "stderr",
     "output_type": "stream",
     "text": [
      "Using TensorFlow backend.\n"
     ]
    }
   ],
   "source": [
    "import numpy as np\n",
    "from numpy import array\n",
    "import pandas as pd\n",
    "import matplotlib.pyplot as plt\n",
    "%matplotlib inline\n",
    "import string\n",
    "import os\n",
    "from PIL import Image\n",
    "import glob\n",
    "from pickle import dump, load\n",
    "from time import time\n",
    "from keras.preprocessing import sequence\n",
    "from keras.models import Sequential\n",
    "from keras.layers import LSTM, Embedding, TimeDistributed, Dense, RepeatVector,\\\n",
    "                         Activation, Flatten, Reshape, concatenate, Dropout, BatchNormalization\n",
    "from keras.optimizers import Adam, RMSprop\n",
    "from keras.layers.wrappers import Bidirectional\n",
    "from keras.layers.merge import add\n",
    "from keras.applications.inception_v3 import InceptionV3\n",
    "from keras.preprocessing import image\n",
    "from keras.models import Model\n",
    "from keras import Input, layers\n",
    "from keras import optimizers\n",
    "from keras.applications.inception_v3 import preprocess_input\n",
    "from keras.preprocessing.text import Tokenizer\n",
    "from keras.preprocessing.sequence import pad_sequences\n",
    "from keras.preprocessing.image import img_to_array\n",
    "from keras.utils import to_categorical"
   ]
  },
  {
   "cell_type": "code",
   "execution_count": 2,
   "metadata": {
    "colab": {},
    "colab_type": "code",
    "id": "3xcwYAM5rh5L"
   },
   "outputs": [],
   "source": [
    "import os\n",
    "# Path to the downloaded Flickr 8K dataset\n",
    "path = os.path.join(os.getcwd(), 'flickr8k')\n",
    "# Location for all text and image files respectively\n",
    "txtpath = os.path.join(path, \"Flickr_TextData\")\n",
    "imgpath = os.path.join(path, \"Images\")"
   ]
  },
  {
   "cell_type": "markdown",
   "metadata": {},
   "source": [
    "# 1. Checking and cleaning the text files to be parsed for training"
   ]
  },
  {
   "cell_type": "code",
   "execution_count": 3,
   "metadata": {
    "colab": {
     "base_uri": "https://localhost:8080/",
     "height": 83
    },
    "colab_type": "code",
    "executionInfo": {
     "elapsed": 2767,
     "status": "ok",
     "timestamp": 1578961335914,
     "user": {
      "displayName": "Kanishk Mair",
      "photoUrl": "",
      "userId": "10858185497480457260"
     },
     "user_tz": 300
    },
    "id": "AGcD_dvjrh5O",
    "outputId": "366ae7d2-4b50-4c4d-ce1a-8ba1872ce3b1"
   },
   "outputs": [],
   "source": [
    "def load_doc(filename):\n",
    "    # open the file as read only\n",
    "    with open(filename, 'r') as file:\n",
    "        text = file.read()\n",
    "        return text"
   ]
  },
  {
   "cell_type": "code",
   "execution_count": 4,
   "metadata": {
    "colab": {
     "base_uri": "https://localhost:8080/",
     "height": 83
    },
    "colab_type": "code",
    "executionInfo": {
     "elapsed": 2767,
     "status": "ok",
     "timestamp": 1578961335914,
     "user": {
      "displayName": "Kanishk Mair",
      "photoUrl": "",
      "userId": "10858185497480457260"
     },
     "user_tz": 300
    },
    "id": "AGcD_dvjrh5O",
    "outputId": "366ae7d2-4b50-4c4d-ce1a-8ba1872ce3b1"
   },
   "outputs": [
    {
     "name": "stdout",
     "output_type": "stream",
     "text": [
      "1000268201_693b08cb0e.jpg#0\tA child in a pink dress is climbing up a set of stairs in an entry way .\n",
      "1000268201_693b08cb0e.jpg#1\tA girl going into a wooden building .\n",
      "1000268201_693b08cb0e.jpg#2\tA little girl climbing into a wooden playhouse .\n",
      "1000268201_693b08cb0e.jpg#3\tA little girl climbing the s\n"
     ]
    }
   ],
   "source": [
    "filename = os.path.join(txtpath, \"Flickr8k.token.txt\")\n",
    "# load descriptions\n",
    "doc = load_doc(filename)\n",
    "print(doc[:300])"
   ]
  },
  {
   "cell_type": "code",
   "execution_count": 5,
   "metadata": {
    "colab": {
     "base_uri": "https://localhost:8080/",
     "height": 33
    },
    "colab_type": "code",
    "executionInfo": {
     "elapsed": 1487,
     "status": "ok",
     "timestamp": 1578961350336,
     "user": {
      "displayName": "Kanishk Mair",
      "photoUrl": "",
      "userId": "10858185497480457260"
     },
     "user_tz": 300
    },
    "id": "337zfRBSrh5R",
    "outputId": "51da898b-0743-4a8f-e98c-9e8a45d1a8f1"
   },
   "outputs": [
    {
     "name": "stdout",
     "output_type": "stream",
     "text": [
      "Loaded: 8092 \n"
     ]
    }
   ],
   "source": [
    "def load_descriptions(doc):\n",
    "    mapping = dict()\n",
    "    # process lines\n",
    "    for line in doc.split('\\n'):\n",
    "        # split line by white space\n",
    "        tokens = line.split()\n",
    "        if len(line) < 2:\n",
    "            continue\n",
    "        # take the first token as the image id, the rest as the description\n",
    "        image_id, image_desc = tokens[0], tokens[1:]\n",
    "        # extract filename from image id\n",
    "        image_id = image_id.split('.')[0]\n",
    "        # convert description tokens back to string\n",
    "        image_desc = ' '.join(image_desc)\n",
    "        # create the list if needed\n",
    "        if image_id not in mapping:\n",
    "            mapping[image_id] = list()\n",
    "        # store description\n",
    "        mapping[image_id].append(image_desc)\n",
    "    return mapping\n",
    "\n",
    "# parse descriptions\n",
    "descriptions = load_descriptions(doc)\n",
    "print('Loaded: %d ' % len(descriptions))"
   ]
  },
  {
   "cell_type": "code",
   "execution_count": 6,
   "metadata": {
    "colab": {
     "base_uri": "https://localhost:8080/",
     "height": 100
    },
    "colab_type": "code",
    "executionInfo": {
     "elapsed": 401,
     "status": "ok",
     "timestamp": 1578961352549,
     "user": {
      "displayName": "Kanishk Mair",
      "photoUrl": "",
      "userId": "10858185497480457260"
     },
     "user_tz": 300
    },
    "id": "Jtu5mqg2rh5T",
    "outputId": "d0e3de9a-dd3a-48f7-b7c4-a1945aa69d7c"
   },
   "outputs": [
    {
     "data": {
      "text/plain": [
       "['1000268201_693b08cb0e',\n",
       " '1001773457_577c3a7d70',\n",
       " '1002674143_1b742ab4b8',\n",
       " '1003163366_44323f5815',\n",
       " '1007129816_e794419615']"
      ]
     },
     "execution_count": 6,
     "metadata": {},
     "output_type": "execute_result"
    }
   ],
   "source": [
    "list(descriptions.keys())[:5]"
   ]
  },
  {
   "cell_type": "code",
   "execution_count": 7,
   "metadata": {
    "colab": {},
    "colab_type": "code",
    "id": "PA4qNpv1rh5V"
   },
   "outputs": [],
   "source": [
    "def clean_descriptions(descriptions):\n",
    "    # prepare translation table for removing punctuation\n",
    "    table = str.maketrans('', '', string.punctuation)\n",
    "    for key, desc_list in descriptions.items():\n",
    "        for i in range(len(desc_list)):\n",
    "            desc = desc_list[i]\n",
    "            # tokenize\n",
    "            desc = desc.split()\n",
    "            # convert to lower case\n",
    "            desc = [word.lower() for word in desc]\n",
    "            # remove punctuation from each token\n",
    "            desc = [w.translate(table) for w in desc]\n",
    "            # remove hanging 's' and 'a'\n",
    "            desc = [word for word in desc if len(word)>1]\n",
    "            # remove tokens with numbers in them\n",
    "            desc = [word for word in desc if word.isalpha()]\n",
    "            # store as string\n",
    "            desc_list[i] =  ' '.join(desc)\n",
    "\n",
    "# clean descriptions\n",
    "clean_descriptions(descriptions)"
   ]
  },
  {
   "cell_type": "code",
   "execution_count": 8,
   "metadata": {
    "colab": {
     "base_uri": "https://localhost:8080/",
     "height": 100
    },
    "colab_type": "code",
    "executionInfo": {
     "elapsed": 1442,
     "status": "ok",
     "timestamp": 1578961372405,
     "user": {
      "displayName": "Kanishk Mair",
      "photoUrl": "",
      "userId": "10858185497480457260"
     },
     "user_tz": 300
    },
    "id": "7Uzp9WIjrh5X",
    "outputId": "a25c4298-c7c3-4b3e-ebc2-f61c78aed080"
   },
   "outputs": [
    {
     "data": {
      "text/plain": [
       "['child in pink dress is climbing up set of stairs in an entry way',\n",
       " 'girl going into wooden building',\n",
       " 'little girl climbing into wooden playhouse',\n",
       " 'little girl climbing the stairs to her playhouse',\n",
       " 'little girl in pink dress going into wooden cabin']"
      ]
     },
     "execution_count": 8,
     "metadata": {},
     "output_type": "execute_result"
    }
   ],
   "source": [
    "# Let's check how the first file is captioned\n",
    "descriptions['1000268201_693b08cb0e']"
   ]
  },
  {
   "cell_type": "markdown",
   "metadata": {},
   "source": [
    "# 2. Building a dictionary of all the words used"
   ]
  },
  {
   "cell_type": "code",
   "execution_count": 9,
   "metadata": {
    "colab": {
     "base_uri": "https://localhost:8080/",
     "height": 33
    },
    "colab_type": "code",
    "executionInfo": {
     "elapsed": 1415,
     "status": "ok",
     "timestamp": 1578961376524,
     "user": {
      "displayName": "Kanishk Mair",
      "photoUrl": "",
      "userId": "10858185497480457260"
     },
     "user_tz": 300
    },
    "id": "KDyavs8Drh5Z",
    "outputId": "e676de71-5fb9-4e03-8500-9952970c0a74"
   },
   "outputs": [
    {
     "name": "stdout",
     "output_type": "stream",
     "text": [
      "Original Vocabulary Size: 8763\n"
     ]
    }
   ],
   "source": [
    "def to_vocabulary(descriptions):\n",
    "    # build a list of all description strings\n",
    "    all_desc = set()\n",
    "    for key in descriptions.keys():\n",
    "        [all_desc.update(d.split()) for d in descriptions[key]]\n",
    "    return all_desc\n",
    "\n",
    "# summarize vocabulary\n",
    "vocabulary = to_vocabulary(descriptions)\n",
    "print('Original Vocabulary Size: %d' % len(vocabulary))"
   ]
  },
  {
   "cell_type": "code",
   "execution_count": 10,
   "metadata": {
    "colab": {},
    "colab_type": "code",
    "id": "ArCiK3vDrh5a"
   },
   "outputs": [],
   "source": [
    "def save_descriptions(descriptions, filename):\n",
    "    lines = list()\n",
    "    for key, desc_list in descriptions.items():\n",
    "        for desc in desc_list:\n",
    "            lines.append(key + ' ' + desc)\n",
    "    data = '\\n'.join(lines)\n",
    "    file = open(filename, 'w')\n",
    "    file.write(data)\n",
    "    file.close()\n",
    "\n",
    "save_descriptions(descriptions, 'descriptions.txt')"
   ]
  },
  {
   "cell_type": "markdown",
   "metadata": {},
   "source": [
    "# 3. Checking the image files"
   ]
  },
  {
   "cell_type": "code",
   "execution_count": 11,
   "metadata": {
    "colab": {
     "base_uri": "https://localhost:8080/",
     "height": 344
    },
    "colab_type": "code",
    "executionInfo": {
     "elapsed": 942,
     "status": "error",
     "timestamp": 1579014336324,
     "user": {
      "displayName": "Kanishk Mair",
      "photoUrl": "",
      "userId": "10858185497480457260"
     },
     "user_tz": 300
    },
    "id": "EcR3W-l-rh5c",
    "outputId": "ee2e8aec-2df2-4f69-efa6-f6f815dfd9e7"
   },
   "outputs": [
    {
     "name": "stdout",
     "output_type": "stream",
     "text": [
      "train : 6000\n",
      "dev : 1000\n",
      "test : 1000\n"
     ]
    }
   ],
   "source": [
    "# load a pre-defined list of photo identifiers\n",
    "def load_set(filename):\n",
    "    doc = load_doc(filename)\n",
    "    dataset = list()\n",
    "    # process line by line\n",
    "    for line in doc.split('\\n'):\n",
    "        # skip empty lines\n",
    "        if len(line) < 1:\n",
    "            continue\n",
    "        # get the image identifier\n",
    "        identifier = line.split('.')[0]\n",
    "        dataset.append(identifier)\n",
    "    return set(dataset)\n",
    "\n",
    "# load training dataset (6K)\n",
    "filename = os.path.join(txtpath, 'Flickr_8k.trainImages.txt')\n",
    "train = load_set(filename)\n",
    "filename = os.path.join(txtpath, 'Flickr_8k.devImages.txt')\n",
    "dev = load_set(filename)\n",
    "filename = os.path.join(txtpath, 'Flickr_8k.testImages.txt')\n",
    "test = load_set(filename)\n",
    "print('train : %d' % len(train))\n",
    "print('dev : %d' % len(dev))\n",
    "print('test : %d' % len(test))"
   ]
  },
  {
   "cell_type": "code",
   "execution_count": 12,
   "metadata": {
    "colab": {},
    "colab_type": "code",
    "id": "JmhXUG-vrh5e"
   },
   "outputs": [],
   "source": [
    "# Getting all image file names\n",
    "img = []\n",
    "for file in os.listdir(imgpath):\n",
    "    if file.endswith(\".jpg\"):\n",
    "        img.append(file)"
   ]
  },
  {
   "cell_type": "code",
   "execution_count": 13,
   "metadata": {
    "colab": {},
    "colab_type": "code",
    "id": "Y4FStmJ1rh5k"
   },
   "outputs": [],
   "source": [
    "def img_filename(txtfilename):\n",
    "    images_file = os.path.join(txtpath, txtfilename)\n",
    "    images = set(open(images_file, 'r').read().strip().split('\\n'))\n",
    "    lstname = []\n",
    "            \n",
    "    for i in img:\n",
    "        if i in images:\n",
    "            lstname.append(i)\n",
    "    return lstname"
   ]
  },
  {
   "cell_type": "code",
   "execution_count": 14,
   "metadata": {
    "colab": {
     "base_uri": "https://localhost:8080/",
     "height": 66
    },
    "colab_type": "code",
    "executionInfo": {
     "elapsed": 1433,
     "status": "ok",
     "timestamp": 1578961451734,
     "user": {
      "displayName": "Kanishk Mair",
      "photoUrl": "",
      "userId": "10858185497480457260"
     },
     "user_tz": 300
    },
    "id": "_lQmito1rh5m",
    "outputId": "56672991-2171-4656-a686-6e47c27df904"
   },
   "outputs": [
    {
     "name": "stdout",
     "output_type": "stream",
     "text": [
      "Train --> 6000 files\n",
      "Dev --> 1000 files\n",
      "Test --> 1000 files\n"
     ]
    }
   ],
   "source": [
    "train_img = img_filename('Flickr_8k.trainImages.txt')\n",
    "dev_img = img_filename('Flickr_8k.devImages.txt')\n",
    "test_img = img_filename('Flickr_8k.testImages.txt')\n",
    "\n",
    "print(f'Train --> {len(train_img)} files')\n",
    "print(f'Dev --> {len(dev_img)} files')\n",
    "print(f'Test --> {len(test_img)} files')"
   ]
  },
  {
   "cell_type": "code",
   "execution_count": 15,
   "metadata": {
    "colab": {},
    "colab_type": "code",
    "id": "EDR5nWTfli9t"
   },
   "outputs": [],
   "source": [
    "# load clean descriptions into memory\n",
    "def load_clean_descriptions(filename, dataset):\n",
    "    # load document\n",
    "    doc = load_doc(filename)\n",
    "    descriptions = dict()\n",
    "    for line in doc.split('\\n'):\n",
    "        # split line by white space\n",
    "        tokens = line.split()\n",
    "        # split id from description\n",
    "        image_id, image_desc = tokens[0], tokens[1:]\n",
    "        # skip images not in the set\n",
    "        if image_id in dataset:\n",
    "            # create list\n",
    "            if image_id not in descriptions:\n",
    "                descriptions[image_id] = list()\n",
    "            # wrap description in tokens\n",
    "            desc = 'startseq ' + ' '.join(image_desc) + ' endseq'\n",
    "            # store\n",
    "            descriptions[image_id].append(desc)\n",
    "    return descriptions"
   ]
  },
  {
   "cell_type": "code",
   "execution_count": 16,
   "metadata": {
    "colab": {
     "base_uri": "https://localhost:8080/",
     "height": 33
    },
    "colab_type": "code",
    "executionInfo": {
     "elapsed": 1451,
     "status": "ok",
     "timestamp": 1578961462012,
     "user": {
      "displayName": "Kanishk Mair",
      "photoUrl": "",
      "userId": "10858185497480457260"
     },
     "user_tz": 300
    },
    "id": "OTMZFD3Jrh5n",
    "outputId": "eb35b8fa-cdc3-4225-e3bb-92c37525a955"
   },
   "outputs": [
    {
     "name": "stdout",
     "output_type": "stream",
     "text": [
      "Descriptions: train=6000\n"
     ]
    }
   ],
   "source": [
    "# descriptions\n",
    "train_descriptions = load_clean_descriptions('descriptions.txt', train)\n",
    "print('Descriptions: train=%d' % len(train_descriptions))"
   ]
  },
  {
   "cell_type": "code",
   "execution_count": 17,
   "metadata": {
    "colab": {
     "base_uri": "https://localhost:8080/",
     "height": 211
    },
    "colab_type": "code",
    "executionInfo": {
     "elapsed": 1119,
     "status": "error",
     "timestamp": 1579014316748,
     "user": {
      "displayName": "Kanishk Mair",
      "photoUrl": "",
      "userId": "10858185497480457260"
     },
     "user_tz": 300
    },
    "id": "g6z-KbTLrh5p",
    "outputId": "0755affe-b567-4f7c-cf5e-66faa19a345d"
   },
   "outputs": [
    {
     "name": "stdout",
     "output_type": "stream",
     "text": [
      "Descriptions: dev=1000\n",
      "Descriptions: test=1000\n"
     ]
    }
   ],
   "source": [
    "dev_descriptions = load_clean_descriptions('descriptions.txt', dev)\n",
    "print('Descriptions: dev=%d' % len(dev_descriptions))\n",
    "test_descriptions = load_clean_descriptions('descriptions.txt', test)\n",
    "print('Descriptions: test=%d' % len(test_descriptions))"
   ]
  },
  {
   "cell_type": "code",
   "execution_count": 34,
   "metadata": {},
   "outputs": [
    {
     "data": {
      "text/plain": [
       "(1, 299, 299, 3)"
      ]
     },
     "execution_count": 34,
     "metadata": {},
     "output_type": "execute_result"
    }
   ],
   "source": [
    "\n",
    "image_file_path = os.path.join(imgpath, '667626_18933d713e.jpg')\n",
    "img = image.load_img(image_file_path, target_size=(299, 299))\n",
    "x = image.img_to_array(img)\n",
    "x = np.expand_dims(x, axis=0)\n",
    "\n",
    "x.shape"
   ]
  },
  {
   "cell_type": "markdown",
   "metadata": {},
   "source": [
    "# 4. Preprocessing the image files"
   ]
  },
  {
   "cell_type": "code",
   "execution_count": 19,
   "metadata": {
    "colab": {},
    "colab_type": "code",
    "id": "BbuevBdVrh5t"
   },
   "outputs": [],
   "source": [
    "def preprocess(image_file):\n",
    "    image_file_path = os.path.join(imgpath, image_file)\n",
    "    # Convert all the images to size 299x299 as expected by the inception v3 model\n",
    "    img = image.load_img(image_file_path, target_size=(299, 299))\n",
    "    # Convert PIL image to numpy array of 3-dimensions\n",
    "    x = image.img_to_array(img)\n",
    "    # Add one more dimension\n",
    "    x = np.expand_dims(x, axis=0)\n",
    "    # preprocess the images using preprocess_input() from inception module\n",
    "    x = preprocess_input(x)\n",
    "    return x"
   ]
  },
  {
   "cell_type": "code",
   "execution_count": 20,
   "metadata": {
    "colab": {
     "base_uri": "https://localhost:8080/",
     "height": 503
    },
    "colab_type": "code",
    "executionInfo": {
     "elapsed": 29459,
     "status": "ok",
     "timestamp": 1578961530730,
     "user": {
      "displayName": "Kanishk Mair",
      "photoUrl": "",
      "userId": "10858185497480457260"
     },
     "user_tz": 300
    },
    "id": "rBfK5Prprh5v",
    "outputId": "cf989dbf-daad-4f23-c270-fa42d153b52f"
   },
   "outputs": [],
   "source": [
    "# Load the inception v3 model\n",
    "model = InceptionV3(weights='imagenet')"
   ]
  },
  {
   "cell_type": "code",
   "execution_count": 21,
   "metadata": {
    "colab": {},
    "colab_type": "code",
    "id": "IquFywA3rh5x"
   },
   "outputs": [],
   "source": [
    "# Create a new model, by removing the last layer (output layer) from the inception v3\n",
    "model_new = Model(model.input, model.layers[-2].output)"
   ]
  },
  {
   "cell_type": "markdown",
   "metadata": {
    "colab_type": "text",
    "id": "Qyz1KwZa4f3V"
   },
   "source": [
    "# 5. Image Encoding\n",
    "Do once only to calibrate the images for future use"
   ]
  },
  {
   "cell_type": "code",
   "execution_count": 22,
   "metadata": {
    "colab": {},
    "colab_type": "code",
    "id": "Ph8t0bE6rh50"
   },
   "outputs": [],
   "source": [
    "# Function to encode a given image into a vector of size (2048, )\n",
    "def encode(image):\n",
    "    image = preprocess(image) # preprocess the image\n",
    "    fea_vec = model_new.predict(image) # Get the encoding vector for the image\n",
    "    fea_vec = np.reshape(fea_vec, fea_vec.shape[1]) # reshape from (1, 2048) to (2048, )\n",
    "    return fea_vec"
   ]
  },
  {
   "cell_type": "code",
   "execution_count": 23,
   "metadata": {
    "colab": {},
    "colab_type": "code",
    "id": "_a9vxP5Nrh53"
   },
   "outputs": [
    {
     "name": "stdout",
     "output_type": "stream",
     "text": [
      "Time taken in seconds = 1211.1364204883575\n"
     ]
    }
   ],
   "source": [
    "# Call the funtion to encode all the train images\n",
    "# This will take a while on CPU - This is already saved in the Models folder\n",
    "start = time()\n",
    "encoding_train = {}\n",
    "for img in train_img:\n",
    "    encoding_train[img] = encode(img)\n",
    "print(\"Time taken in seconds =\", time()-start)"
   ]
  },
  {
   "cell_type": "code",
   "execution_count": 24,
   "metadata": {
    "colab": {},
    "colab_type": "code",
    "id": "XizIPxeqrh55"
   },
   "outputs": [],
   "source": [
    "# Saving the train features\n",
    "with open(os.path.join(path, os.path.join('Models', 'encoded_train_images.pkl')), \"wb\") as encoded_pickle:\n",
    "    dump(encoding_train, encoded_pickle)"
   ]
  },
  {
   "cell_type": "code",
   "execution_count": 26,
   "metadata": {
    "colab": {},
    "colab_type": "code",
    "id": "hN8wav9trh57"
   },
   "outputs": [
    {
     "name": "stdout",
     "output_type": "stream",
     "text": [
      "Time taken in seconds = 197.41958785057068\n"
     ]
    }
   ],
   "source": [
    "# Call the funtion to encode all the test images - This is already saved in the Models folder\n",
    "start = time()\n",
    "encoding_test = {}\n",
    "for img in test_img:\n",
    "    encoding_test[img] = encode(img)\n",
    "print(\"Time taken in seconds =\", time()-start)\n",
    "\n",
    "# Save the bottleneck test features to disk\n",
    "with open(os.path.join(path, os.path.join('Models', 'encoded_test_images.pkl')), \"wb\") as encoded_pickle:\n",
    "    dump(encoding_test, encoded_pickle)"
   ]
  },
  {
   "cell_type": "code",
   "execution_count": 41,
   "metadata": {},
   "outputs": [
    {
     "name": "stdout",
     "output_type": "stream",
     "text": [
      "Time taken in seconds = 231.738130569458\n"
     ]
    }
   ],
   "source": [
    "# Call the funtion to encode all the test images - Execute this only once\n",
    "start = time()\n",
    "encoding_dev = {}\n",
    "for img in dev_img:\n",
    "    encoding_dev[img] = encode(img)\n",
    "print(\"Time taken in seconds =\", time()-start)\n",
    "\n",
    "# Save the bottleneck test features to disk\n",
    "with open(os.path.join(path, os.path.join('Models', 'encoded_dev_images.pkl')), \"wb\") as encoded_pickle:\n",
    "    dump(encoding_dev, encoded_pickle)"
   ]
  },
  {
   "cell_type": "markdown",
   "metadata": {
    "colab_type": "text",
    "id": "9iih1yx09-sz"
   },
   "source": [
    "# 6. Building caption train data"
   ]
  },
  {
   "cell_type": "code",
   "execution_count": 27,
   "metadata": {
    "colab": {
     "base_uri": "https://localhost:8080/",
     "height": 33
    },
    "colab_type": "code",
    "executionInfo": {
     "elapsed": 2630,
     "status": "ok",
     "timestamp": 1579013978384,
     "user": {
      "displayName": "Kanishk Mair",
      "photoUrl": "",
      "userId": "10858185497480457260"
     },
     "user_tz": 300
    },
    "id": "ZKKr7Ja_rh58",
    "outputId": "c15160ce-abfd-4f8a-f83c-891ecaa994ff"
   },
   "outputs": [
    {
     "name": "stdout",
     "output_type": "stream",
     "text": [
      "Photos: train=6000\n"
     ]
    }
   ],
   "source": [
    "train_features = load( open(os.path.join(path, os.path.join('Models', 'encoded_train_images.pkl')), \"rb\")) \n",
    "print('Photos: train=%d' % len(train_features))"
   ]
  },
  {
   "cell_type": "code",
   "execution_count": 28,
   "metadata": {
    "colab": {
     "base_uri": "https://localhost:8080/",
     "height": 33
    },
    "colab_type": "code",
    "executionInfo": {
     "elapsed": 1149,
     "status": "ok",
     "timestamp": 1579013980085,
     "user": {
      "displayName": "Kanishk Mair",
      "photoUrl": "",
      "userId": "10858185497480457260"
     },
     "user_tz": 300
    },
    "id": "tsUbm7H_-Nd7",
    "outputId": "275824b6-ded6-4943-face-a23d1d278f7a"
   },
   "outputs": [
    {
     "name": "stdout",
     "output_type": "stream",
     "text": [
      "Photos: dev=1000\n"
     ]
    }
   ],
   "source": [
    "dev_features = load( open(os.path.join(path, os.path.join('Models', 'encoded_dev_images.pkl')), \"rb\")) \n",
    "print('Photos: dev=%d' % len(dev_features))"
   ]
  },
  {
   "cell_type": "code",
   "execution_count": 29,
   "metadata": {
    "colab": {
     "base_uri": "https://localhost:8080/",
     "height": 227
    },
    "colab_type": "code",
    "executionInfo": {
     "elapsed": 878,
     "status": "error",
     "timestamp": 1579013981934,
     "user": {
      "displayName": "Kanishk Mair",
      "photoUrl": "",
      "userId": "10858185497480457260"
     },
     "user_tz": 300
    },
    "id": "kpmQKNCvrh59",
    "outputId": "11fc052f-66cb-4a10-846c-1c1d72d713e1"
   },
   "outputs": [
    {
     "data": {
      "text/plain": [
       "30000"
      ]
     },
     "execution_count": 29,
     "metadata": {},
     "output_type": "execute_result"
    }
   ],
   "source": [
    "# Create a list of all the training captions\n",
    "all_train_captions = []\n",
    "for key, val in train_descriptions.items():\n",
    "    for cap in val:\n",
    "        all_train_captions.append(cap)\n",
    "len(all_train_captions)"
   ]
  },
  {
   "cell_type": "code",
   "execution_count": 30,
   "metadata": {
    "colab": {
     "base_uri": "https://localhost:8080/",
     "height": 33
    },
    "colab_type": "code",
    "executionInfo": {
     "elapsed": 1452,
     "status": "ok",
     "timestamp": 1578961852697,
     "user": {
      "displayName": "Kanishk Mair",
      "photoUrl": "",
      "userId": "10858185497480457260"
     },
     "user_tz": 300
    },
    "id": "yJvb8iy5SCOZ",
    "outputId": "10658ef0-2b0c-4d30-a40f-6baed909d80f"
   },
   "outputs": [
    {
     "name": "stdout",
     "output_type": "stream",
     "text": [
      "preprocessed words 7578 -> 1651\n"
     ]
    }
   ],
   "source": [
    "# Consider only words which occur at least 10 times in the corpus to avoid overfitting on rare words\n",
    "word_count_threshold = 10\n",
    "word_counts = {}\n",
    "nsents = 0\n",
    "for sent in all_train_captions:\n",
    "    nsents += 1\n",
    "    for w in sent.split(' '):\n",
    "        word_counts[w] = word_counts.get(w, 0) + 1\n",
    "\n",
    "vocab = [w for w in word_counts if word_counts[w] >= word_count_threshold]\n",
    "print('preprocessed words %d -> %d' % (len(word_counts), len(vocab)))"
   ]
  },
  {
   "cell_type": "code",
   "execution_count": 32,
   "metadata": {
    "colab": {
     "base_uri": "https://localhost:8080/",
     "height": 33
    },
    "colab_type": "code",
    "executionInfo": {
     "elapsed": 1463,
     "status": "ok",
     "timestamp": 1578961858294,
     "user": {
      "displayName": "Kanishk Mair",
      "photoUrl": "",
      "userId": "10858185497480457260"
     },
     "user_tz": 300
    },
    "id": "h5WXn9BtSEH3",
    "outputId": "87ae7d1d-ff67-4efa-9477-7e0fa214125a"
   },
   "outputs": [
    {
     "data": {
      "text/plain": [
       "1652"
      ]
     },
     "execution_count": 32,
     "metadata": {},
     "output_type": "execute_result"
    }
   ],
   "source": [
    "wordtoix = {}\n",
    "\n",
    "ix = 1\n",
    "for w in vocab:\n",
    "    wordtoix[w] = ix\n",
    "    ix += 1\n",
    "    \n",
    "vocab_size = len(wordtoix) + 1 # one for appended 0's\n",
    "vocab_size"
   ]
  },
  {
   "cell_type": "code",
   "execution_count": 33,
   "metadata": {},
   "outputs": [],
   "source": [
    "# Saving the dictionary files\n",
    "with open(os.path.join(path, 'wordtoix.pkl'), 'rb') as f:\n",
    "    wordtoix = load(f)"
   ]
  },
  {
   "cell_type": "code",
   "execution_count": 34,
   "metadata": {},
   "outputs": [],
   "source": [
    "ixtoword = dict(map(reversed, wordtoix.items()))"
   ]
  },
  {
   "cell_type": "code",
   "execution_count": 35,
   "metadata": {
    "colab": {
     "base_uri": "https://localhost:8080/",
     "height": 33
    },
    "colab_type": "code",
    "executionInfo": {
     "elapsed": 1447,
     "status": "ok",
     "timestamp": 1578961863511,
     "user": {
      "displayName": "Kanishk Mair",
      "photoUrl": "",
      "userId": "10858185497480457260"
     },
     "user_tz": 300
    },
    "id": "qXA3YHg0SG4z",
    "outputId": "7870ab58-d133-420c-d776-9996431cc5ee"
   },
   "outputs": [
    {
     "name": "stdout",
     "output_type": "stream",
     "text": [
      "Description Length: 32\n"
     ]
    }
   ],
   "source": [
    "# convert a dictionary of clean descriptions to a list of descriptions\n",
    "def to_lines(descriptions):\n",
    "    all_desc = list()\n",
    "    for key in descriptions.keys():\n",
    "        [all_desc.append(d) for d in descriptions[key]]\n",
    "    return all_desc\n",
    "\n",
    "# calculate the length of the description with the most words\n",
    "def max_length(descriptions):\n",
    "    lines = to_lines(descriptions)\n",
    "    return max(len(d.split()) for d in lines)\n",
    "\n",
    "# determine the maximum sequence length\n",
    "max_length = max_length(descriptions)\n",
    "print('Description Length: %d' % max_length)"
   ]
  },
  {
   "cell_type": "markdown",
   "metadata": {},
   "source": [
    "# 7. Building the caption generation ML model"
   ]
  },
  {
   "cell_type": "code",
   "execution_count": 37,
   "metadata": {
    "colab": {},
    "colab_type": "code",
    "id": "1ya4XyrtSLMd"
   },
   "outputs": [],
   "source": [
    "# data generator, intended to be used in a call to model.fit_generator()\n",
    "def data_generator(descriptions, photos, wordtoix, max_length, num_photos_per_batch):\n",
    "    X1, X2, y = list(), list(), list()\n",
    "    n=0\n",
    "    # loop for ever over images\n",
    "    while 1:\n",
    "        for key, desc_list in descriptions.items():\n",
    "            n+=1\n",
    "            # retrieve the photo feature\n",
    "            photo = photos[key+'.jpg']\n",
    "            for desc in desc_list:\n",
    "                # encode the sequence\n",
    "                seq = [wordtoix[word] for word in desc.split(' ') if word in wordtoix]\n",
    "                # split one sequence into multiple X, y pairs\n",
    "                for i in range(1, len(seq)):\n",
    "                    # split into input and output pair\n",
    "                    in_seq, out_seq = seq[:i], seq[i]\n",
    "                    # pad input sequence\n",
    "                    in_seq = pad_sequences([in_seq], maxlen=max_length)[0]\n",
    "                    # encode output sequence\n",
    "                    out_seq = to_categorical([out_seq], num_classes=vocab_size)[0]\n",
    "                    # store\n",
    "                    X1.append(photo)\n",
    "                    X2.append(in_seq)\n",
    "                    y.append(out_seq)\n",
    "            # yield the batch data\n",
    "            if n==num_photos_per_batch:\n",
    "                yield [[array(X1), array(X2)], array(y)]\n",
    "                X1, X2, y = list(), list(), list()\n",
    "                n=0"
   ]
  },
  {
   "cell_type": "code",
   "execution_count": 38,
   "metadata": {
    "colab": {
     "base_uri": "https://localhost:8080/",
     "height": 33
    },
    "colab_type": "code",
    "executionInfo": {
     "elapsed": 25811,
     "status": "ok",
     "timestamp": 1579014048827,
     "user": {
      "displayName": "Kanishk Mair",
      "photoUrl": "",
      "userId": "10858185497480457260"
     },
     "user_tz": 300
    },
    "id": "r8gm2UM3SNYh",
    "outputId": "a203275e-714c-4149-ad5d-39463d8775d3",
    "scrolled": false
   },
   "outputs": [
    {
     "name": "stdout",
     "output_type": "stream",
     "text": [
      "Found 400000 word vectors.\n"
     ]
    }
   ],
   "source": [
    "# Load GloVe vectors\n",
    "embeddings_index = {} # empty dictionary\n",
    "\n",
    "with open(os.path.join(path, os.path.join('glove', 'glove.6B.200d.txt')), encoding=\"utf-8\") as f:\n",
    "\n",
    "    for line in f:\n",
    "        values = line.split()\n",
    "        word = values[0]\n",
    "        coefs = np.asarray(values[1:], dtype='float32')\n",
    "        embeddings_index[word] = coefs\n",
    "\n",
    "print('Found %s word vectors.' % len(embeddings_index))"
   ]
  },
  {
   "cell_type": "code",
   "execution_count": 39,
   "metadata": {
    "colab": {
     "base_uri": "https://localhost:8080/",
     "height": 227
    },
    "colab_type": "code",
    "executionInfo": {
     "elapsed": 881,
     "status": "error",
     "timestamp": 1579014050941,
     "user": {
      "displayName": "Kanishk Mair",
      "photoUrl": "",
      "userId": "10858185497480457260"
     },
     "user_tz": 300
    },
    "id": "Ivj6hTTcSekS",
    "outputId": "78a77363-b8fe-4ec7-ac39-b0b90a990d10"
   },
   "outputs": [],
   "source": [
    "embedding_dim = 200\n",
    "\n",
    "# Get 200-dim dense vector for each of the 10000 words in out vocabulary\n",
    "embedding_matrix = np.zeros((vocab_size, embedding_dim))\n",
    "\n",
    "for word, i in wordtoix.items():\n",
    "    #if i < max_words:\n",
    "    embedding_vector = embeddings_index.get(word)\n",
    "    if embedding_vector is not None:\n",
    "        # Words not found in the embedding index will be all zeros\n",
    "        embedding_matrix[i] = embedding_vector"
   ]
  },
  {
   "cell_type": "code",
   "execution_count": 40,
   "metadata": {
    "colab": {
     "base_uri": "https://localhost:8080/",
     "height": 33
    },
    "colab_type": "code",
    "executionInfo": {
     "elapsed": 1760,
     "status": "ok",
     "timestamp": 1578961927300,
     "user": {
      "displayName": "Kanishk Mair",
      "photoUrl": "",
      "userId": "10858185497480457260"
     },
     "user_tz": 300
    },
    "id": "r4pecao6SnNY",
    "outputId": "e55ba3c6-8e07-4169-e7f4-24c3b95d1e59"
   },
   "outputs": [
    {
     "data": {
      "text/plain": [
       "(1652, 200)"
      ]
     },
     "execution_count": 40,
     "metadata": {},
     "output_type": "execute_result"
    }
   ],
   "source": [
    "embedding_matrix.shape"
   ]
  },
  {
   "cell_type": "code",
   "execution_count": 15,
   "metadata": {
    "colab": {
     "base_uri": "https://localhost:8080/",
     "height": 136
    },
    "colab_type": "code",
    "executionInfo": {
     "elapsed": 1804,
     "status": "ok",
     "timestamp": 1578961935902,
     "user": {
      "displayName": "Kanishk Mair",
      "photoUrl": "",
      "userId": "10858185497480457260"
     },
     "user_tz": 300
    },
    "id": "_eoA-spVSp3L",
    "outputId": "f62fa544-78c1-476f-e194-aa62660874ba"
   },
   "outputs": [],
   "source": [
    "inputs1 = Input(shape=(2048,))\n",
    "\n",
    "fe1 = Dropout(0.5)(inputs1)\n",
    "fe2 = Dense(256, activation='relu')(fe1)\n",
    "\n",
    "inputs2 = Input(shape=(max_length,))\n",
    "\n",
    "se1 = Embedding(vocab_size, embedding_dim, mask_zero=True)(inputs2)\n",
    "se2 = Dropout(0.5)(se1)\n",
    "se3 = LSTM(256)(se2)\n",
    "\n",
    "decoder1 = add([fe2, se3])\n",
    "decoder2 = Dense(256, activation='relu')(decoder1)\n",
    "\n",
    "outputs = Dense(vocab_size, activation='softmax')(decoder2)\n",
    "\n",
    "model = Model(inputs=[inputs1, inputs2], outputs=outputs)"
   ]
  },
  {
   "cell_type": "code",
   "execution_count": 16,
   "metadata": {
    "colab": {
     "base_uri": "https://localhost:8080/",
     "height": 500
    },
    "colab_type": "code",
    "executionInfo": {
     "elapsed": 1461,
     "status": "ok",
     "timestamp": 1578961941967,
     "user": {
      "displayName": "Kanishk Mair",
      "photoUrl": "",
      "userId": "10858185497480457260"
     },
     "user_tz": 300
    },
    "id": "T8LmGakTSsj5",
    "outputId": "c238ffa3-e153-45cd-9ecd-bc17d42c111f"
   },
   "outputs": [
    {
     "name": "stdout",
     "output_type": "stream",
     "text": [
      "Model: \"model_1\"\n",
      "__________________________________________________________________________________________________\n",
      "Layer (type)                    Output Shape         Param #     Connected to                     \n",
      "==================================================================================================\n",
      "input_7 (InputLayer)            (None, 32)           0                                            \n",
      "__________________________________________________________________________________________________\n",
      "input_6 (InputLayer)            (None, 2048)         0                                            \n",
      "__________________________________________________________________________________________________\n",
      "embedding_1 (Embedding)         (None, 32, 200)      330400      input_7[0][0]                    \n",
      "__________________________________________________________________________________________________\n",
      "dropout_4 (Dropout)             (None, 2048)         0           input_6[0][0]                    \n",
      "__________________________________________________________________________________________________\n",
      "dropout_5 (Dropout)             (None, 32, 200)      0           embedding_1[0][0]                \n",
      "__________________________________________________________________________________________________\n",
      "dense_4 (Dense)                 (None, 256)          524544      dropout_4[0][0]                  \n",
      "__________________________________________________________________________________________________\n",
      "lstm_1 (LSTM)                   (None, 256)          467968      dropout_5[0][0]                  \n",
      "__________________________________________________________________________________________________\n",
      "add_1 (Add)                     (None, 256)          0           dense_4[0][0]                    \n",
      "                                                                 lstm_1[0][0]                     \n",
      "__________________________________________________________________________________________________\n",
      "dense_5 (Dense)                 (None, 256)          65792       add_1[0][0]                      \n",
      "__________________________________________________________________________________________________\n",
      "dense_6 (Dense)                 (None, 1652)         424564      dense_5[0][0]                    \n",
      "==================================================================================================\n",
      "Total params: 1,813,268\n",
      "Trainable params: 1,813,268\n",
      "Non-trainable params: 0\n",
      "__________________________________________________________________________________________________\n"
     ]
    }
   ],
   "source": [
    "model.summary()"
   ]
  },
  {
   "cell_type": "code",
   "execution_count": 0,
   "metadata": {
    "colab": {},
    "colab_type": "code",
    "id": "ObFIpeGYSwse"
   },
   "outputs": [],
   "source": [
    "model.layers[2].set_weights([embedding_matrix])\n",
    "model.layers[2].trainable = False"
   ]
  },
  {
   "cell_type": "code",
   "execution_count": 0,
   "metadata": {
    "colab": {
     "base_uri": "https://localhost:8080/",
     "height": 83
    },
    "colab_type": "code",
    "executionInfo": {
     "elapsed": 598,
     "status": "ok",
     "timestamp": 1578961973959,
     "user": {
      "displayName": "Kanishk Mair",
      "photoUrl": "",
      "userId": "10858185497480457260"
     },
     "user_tz": 300
    },
    "id": "iAfjgg8bSzxR",
    "outputId": "6e1c09b0-f669-4d1d-d76d-a265093fcd4d"
   },
   "outputs": [
    {
     "name": "stdout",
     "output_type": "stream",
     "text": [
      "WARNING:tensorflow:From /usr/local/lib/python3.6/dist-packages/keras/optimizers.py:793: The name tf.train.Optimizer is deprecated. Please use tf.compat.v1.train.Optimizer instead.\n",
      "\n",
      "WARNING:tensorflow:From /usr/local/lib/python3.6/dist-packages/keras/backend/tensorflow_backend.py:3576: The name tf.log is deprecated. Please use tf.math.log instead.\n",
      "\n"
     ]
    }
   ],
   "source": [
    "model.compile(loss='categorical_crossentropy', optimizer='adam')"
   ]
  },
  {
   "cell_type": "code",
   "execution_count": 0,
   "metadata": {
    "colab": {},
    "colab_type": "code",
    "id": "MDsGjArKS2ai"
   },
   "outputs": [],
   "source": [
    "# Train\n",
    "Nepochs = 10\n",
    "number_pics_per_batch = 30\n",
    "steps = len(train_descriptions)//number_pics_per_batch\n",
    "\n",
    "train_generator = data_generator(train_descriptions, train_features, wordtoix, max_length, number_pics_per_batch)"
   ]
  },
  {
   "cell_type": "code",
   "execution_count": 0,
   "metadata": {
    "colab": {},
    "colab_type": "code",
    "id": "_MKeNsPBWPsh"
   },
   "outputs": [],
   "source": [
    "# Validation \n",
    "\n",
    "number_dev_pics_per_batch = 10\n",
    "dev_generator = data_generator(dev_descriptions, dev_features, wordtoix, max_length, number_pics_per_batch)"
   ]
  },
  {
   "cell_type": "code",
   "execution_count": 0,
   "metadata": {
    "colab": {
     "base_uri": "https://localhost:8080/",
     "height": 33
    },
    "colab_type": "code",
    "executionInfo": {
     "elapsed": 879,
     "status": "ok",
     "timestamp": 1578955064430,
     "user": {
      "displayName": "Kanishk Mair",
      "photoUrl": "",
      "userId": "10858185497480457260"
     },
     "user_tz": 300
    },
    "id": "O_CRMglUCGO2",
    "outputId": "6093ecd9-f1fd-478c-d9e0-7dfa43f80c44"
   },
   "outputs": [
    {
     "data": {
      "text/plain": [
       "6000"
      ]
     },
     "execution_count": 25,
     "metadata": {
      "tags": []
     },
     "output_type": "execute_result"
    }
   ],
   "source": [
    "len(descriptions.keys())"
   ]
  },
  {
   "cell_type": "code",
   "execution_count": 0,
   "metadata": {
    "colab": {
     "base_uri": "https://localhost:8080/",
     "height": 436
    },
    "colab_type": "code",
    "executionInfo": {
     "elapsed": 429457,
     "status": "ok",
     "timestamp": 1578962498329,
     "user": {
      "displayName": "Kanishk Mair",
      "photoUrl": "",
      "userId": "10858185497480457260"
     },
     "user_tz": 300
    },
    "id": "jOMgpj4sS5S8",
    "outputId": "e5a983ff-4077-4f27-ff96-4adfe1f91382"
   },
   "outputs": [
    {
     "name": "stdout",
     "output_type": "stream",
     "text": [
      "WARNING:tensorflow:From /usr/local/lib/python3.6/dist-packages/keras/backend/tensorflow_backend.py:1033: The name tf.assign_add is deprecated. Please use tf.compat.v1.assign_add instead.\n",
      "\n",
      "WARNING:tensorflow:From /usr/local/lib/python3.6/dist-packages/keras/backend/tensorflow_backend.py:1020: The name tf.assign is deprecated. Please use tf.compat.v1.assign instead.\n",
      "\n",
      "Epoch 1/10\n",
      "200/200 [==============================] - 44s 222ms/step - loss: 4.7585 - val_loss: 4.0303\n",
      "Epoch 2/10\n",
      "200/200 [==============================] - 42s 208ms/step - loss: 3.8268 - val_loss: 3.6464\n",
      "Epoch 3/10\n",
      "200/200 [==============================] - 41s 207ms/step - loss: 3.5170 - val_loss: 3.4735\n",
      "Epoch 4/10\n",
      "200/200 [==============================] - 41s 207ms/step - loss: 3.3407 - val_loss: 3.3763\n",
      "Epoch 5/10\n",
      "200/200 [==============================] - 41s 207ms/step - loss: 3.2167 - val_loss: 3.3188\n",
      "Epoch 6/10\n",
      "200/200 [==============================] - 41s 206ms/step - loss: 3.1229 - val_loss: 3.2785\n",
      "Epoch 7/10\n",
      "200/200 [==============================] - 42s 209ms/step - loss: 3.0456 - val_loss: 3.2643\n",
      "Epoch 8/10\n",
      "200/200 [==============================] - 41s 207ms/step - loss: 2.9804 - val_loss: 3.2611\n",
      "Epoch 9/10\n",
      "200/200 [==============================] - 41s 206ms/step - loss: 2.9264 - val_loss: 3.2567\n",
      "Epoch 10/10\n",
      "200/200 [==============================] - 41s 206ms/step - loss: 2.8768 - val_loss: 3.2526\n"
     ]
    }
   ],
   "source": [
    "# simple early stopping models\n",
    "from keras.callbacks import ModelCheckpoint, EarlyStopping, ReduceLROnPlateau\n",
    "\n",
    "es = EarlyStopping(monitor='val_loss', verbose=1, patience=200)  # , mode='min'\n",
    "mc = ModelCheckpoint('./flickr8k/Models/best_imagenet.h5', monitor='loss', verbose=0, save_best_only=True)  # , mode='min'\n",
    "lr = ReduceLROnPlateau(monitor='val_loss', factor=0.1, patience=10, min_lr=0.0001)   # val_\n",
    "\n",
    "# for i in range(epochs):\n",
    "history = model.fit_generator(train_generator, epochs = Nepochs, steps_per_epoch=steps, verbose=1,\n",
    "                              callbacks = [es, mc, lr], validation_data = dev_generator, validation_steps = steps)\n",
    "# model.save('./flickr8k/Models/' + 'best_imagenet' + '.h5')"
   ]
  },
  {
   "cell_type": "markdown",
   "metadata": {},
   "source": [
    "# 8. Testing the Inception V3 model on test images"
   ]
  },
  {
   "cell_type": "code",
   "execution_count": 17,
   "metadata": {
    "colab": {
     "base_uri": "https://localhost:8080/",
     "height": 161
    },
    "colab_type": "code",
    "executionInfo": {
     "elapsed": 3166,
     "status": "error",
     "timestamp": 1579013935082,
     "user": {
      "displayName": "Kanishk Mair",
      "photoUrl": "",
      "userId": "10858185497480457260"
     },
     "user_tz": 300
    },
    "id": "nXV8JNFFZwFl",
    "outputId": "35694ded-84a1-4060-c33a-f62e7bf813b0"
   },
   "outputs": [],
   "source": [
    "model.load_weights( os.path.join(os.path.join(path, 'Models'), 'best_imagenet.h5') )"
   ]
  },
  {
   "cell_type": "code",
   "execution_count": 18,
   "metadata": {
    "colab": {},
    "colab_type": "code",
    "id": "udNUGxXhgLf9"
   },
   "outputs": [],
   "source": [
    "# Save the bottleneck train features to disk\n",
    "with open(os.path.join(path, os.path.join('Models', 'encoded_test_images.pkl')), \"rb\") as encoded_pickle:\n",
    "    encoding_test = load(encoded_pickle)"
   ]
  },
  {
   "cell_type": "code",
   "execution_count": 19,
   "metadata": {
    "colab": {},
    "colab_type": "code",
    "id": "56Gj-GTkg9gE"
   },
   "outputs": [],
   "source": [
    "def greedySearch(photo):\n",
    "    in_text = 'startseq'\n",
    "    for i in range(max_length):\n",
    "        sequence = [wordtoix[w] for w in in_text.split() if w in wordtoix]\n",
    "        sequence = pad_sequences([sequence], maxlen=max_length)\n",
    "        yhat = model.predict([photo,sequence], verbose=0)\n",
    "        yhat = np.argmax(yhat)\n",
    "        word = ixtoword[yhat]\n",
    "        in_text += ' ' + word\n",
    "        if word == 'endseq':\n",
    "            break\n",
    "    final = in_text.split()\n",
    "    final = final[1:-1]\n",
    "    final = ' '.join(final)\n",
    "    return final"
   ]
  },
  {
   "cell_type": "code",
   "execution_count": 51,
   "metadata": {
    "colab": {
     "base_uri": "https://localhost:8080/",
     "height": 285
    },
    "colab_type": "code",
    "executionInfo": {
     "elapsed": 2211,
     "status": "ok",
     "timestamp": 1578963136208,
     "user": {
      "displayName": "Kanishk Mair",
      "photoUrl": "",
      "userId": "10858185497480457260"
     },
     "user_tz": 300
    },
    "id": "tzk6pzhdiEYL",
    "outputId": "0af585e9-31a8-4763-b680-16e8ddc13689"
   },
   "outputs": [
    {
     "data": {
      "image/png": "[encoded data removed]",
      "text/plain": [
       "<Figure size 432x288 with 1 Axes>"
      ]
     },
     "metadata": {
      "needs_background": "light"
     },
     "output_type": "display_data"
    },
    {
     "name": "stdout",
     "output_type": "stream",
     "text": [
      "Greedy: boy in swim trunks is splashing in the water\n"
     ]
    }
   ],
   "source": [
    "z=1\n",
    "pic = list(encoding_test.keys())[z]\n",
    "image = encoding_test[pic].reshape((1,2048))\n",
    "x=plt.imread(os.path.join(imgpath,pic))\n",
    "plt.imshow(x)\n",
    "plt.show()\n",
    "print(\"Greedy:\",greedySearch(image))"
   ]
  },
  {
   "cell_type": "markdown",
   "metadata": {},
   "source": [
    "# CONCLUSION\n",
    "\n",
    "The model does a good job at identifying the main context of the image with mostly accurate wordings when tested for different images (by changing the **z** values). Now, we'll use this model to be integrated with image video captioning"
   ]
  }
 ],
 "metadata": {
  "accelerator": "GPU",
  "colab": {
   "collapsed_sections": [
    "Qyz1KwZa4f3V"
   ],
   "name": "imagenet.ipynb",
   "provenance": []
  },
  "kernelspec": {
   "display_name": "Python 3",
   "language": "python",
   "name": "python3"
  },
  "language_info": {
   "codemirror_mode": {
    "name": "ipython",
    "version": 3
   },
   "file_extension": ".py",
   "mimetype": "text/x-python",
   "name": "python",
   "nbconvert_exporter": "python",
   "pygments_lexer": "ipython3",
   "version": "3.7.4"
  }
 },
 "nbformat": 4,
 "nbformat_minor": 1
}
